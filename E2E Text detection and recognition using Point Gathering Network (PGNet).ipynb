{
  "cells": [
    {
      "cell_type": "markdown",
      "source": [
        "#PGNet Model"
      ],
      "metadata": {
        "id": "mKyfnOdOk3MO"
      }
    },
    {
      "cell_type": "markdown",
      "metadata": {
        "id": "lvlgRLpZ-68R"
      },
      "source": [
        "# Requirements"
      ]
    },
    {
      "cell_type": "code",
      "execution_count": null,
      "metadata": {
        "id": "Jy2WUMzqhPth",
        "colab": {
          "base_uri": "https://localhost:8080/"
        },
        "outputId": "ec26c658-8164-4f30-824b-e7ef9f94eb44"
      },
      "outputs": [
        {
          "output_type": "stream",
          "name": "stdout",
          "text": [
            "Mounted at /content/drive\n"
          ]
        }
      ],
      "source": [
        "# mount google drive\n",
        "from google.colab import drive\n",
        "drive.mount('/content/drive')"
      ]
    },
    {
      "cell_type": "code",
      "execution_count": null,
      "metadata": {
        "id": "9wc9GHaJ-_NV",
        "colab": {
          "base_uri": "https://localhost:8080/"
        },
        "outputId": "e945a5b8-37b4-455b-f2eb-44d2c99f26ca"
      },
      "outputs": [
        {
          "output_type": "stream",
          "name": "stdout",
          "text": [
            "Cloning into 'PaddleOCR'...\n",
            "remote: Enumerating objects: 47145, done.\u001b[K\n",
            "remote: Counting objects: 100% (389/389), done.\u001b[K\n",
            "remote: Compressing objects: 100% (264/264), done.\u001b[K\n",
            "remote: Total 47145 (delta 226), reused 242 (delta 123), pack-reused 46756\u001b[K\n",
            "Receiving objects: 100% (47145/47145), 343.18 MiB | 37.43 MiB/s, done.\n",
            "Resolving deltas: 100% (33237/33237), done.\n",
            "Updating files: 100% (1889/1889), done.\n"
          ]
        }
      ],
      "source": [
        "# Clone PddlePaddle/PaddleOCR repository\n",
        "!git clone https://github.com/PaddlePaddle/PaddleOCR"
      ]
    },
    {
      "cell_type": "code",
      "execution_count": null,
      "metadata": {
        "id": "zBdZI0fd_A7q",
        "colab": {
          "base_uri": "https://localhost:8080/"
        },
        "outputId": "f4326dd7-dc0d-4e9c-9b6c-8fae8b11a541"
      },
      "outputs": [
        {
          "output_type": "stream",
          "name": "stdout",
          "text": [
            "/content/PaddleOCR\n"
          ]
        }
      ],
      "source": [
        "%cd PaddleOCR"
      ]
    },
    {
      "cell_type": "code",
      "execution_count": null,
      "metadata": {
        "id": "10MkzJaL_DX_"
      },
      "outputs": [],
      "source": [
        "!pip3 install -r requirements.txt"
      ]
    },
    {
      "cell_type": "code",
      "execution_count": null,
      "metadata": {
        "id": "WJkQXyUo_FTN"
      },
      "outputs": [],
      "source": [
        "!python -m pip install paddlepaddle-gpu==2.4.2.post117 -f https://www.paddlepaddle.org.cn/whl/linux/mkl/avx/stable.html"
      ]
    },
    {
      "cell_type": "markdown",
      "metadata": {
        "id": "MNo7UxkS_Hdd"
      },
      "source": [
        "# Fine Tunning"
      ]
    },
    {
      "cell_type": "code",
      "execution_count": null,
      "metadata": {
        "id": "MBL7_Osv_Kga"
      },
      "outputs": [],
      "source": [
        "# single GPU training\n",
        "!python3 tools/train.py -c \"/content/drive/MyDrive/Digitizing Medical Prescription/e2e_r50_vd_pg.yml\""
      ]
    },
    {
      "cell_type": "markdown",
      "metadata": {
        "id": "aF-Efsli_OlB"
      },
      "source": [
        "# Evaluation/Testing"
      ]
    },
    {
      "cell_type": "code",
      "source": [
        "import pandas as pd"
      ],
      "metadata": {
        "id": "NEB1rvlJtVBT"
      },
      "execution_count": null,
      "outputs": []
    },
    {
      "cell_type": "code",
      "execution_count": null,
      "metadata": {
        "id": "FI7yjXej_Rcd",
        "colab": {
          "base_uri": "https://localhost:8080/"
        },
        "outputId": "410a180e-7905-435e-f7c3-1b64d9fb0f6a"
      },
      "outputs": [
        {
          "output_type": "stream",
          "name": "stdout",
          "text": [
            "/usr/local/lib/python3.10/dist-packages/pkg_resources/__init__.py:121: DeprecationWarning: pkg_resources is deprecated as an API\n",
            "  warnings.warn(\"pkg_resources is deprecated as an API\", DeprecationWarning)\n",
            "/usr/local/lib/python3.10/dist-packages/pkg_resources/__init__.py:2870: DeprecationWarning: Deprecated call to `pkg_resources.declare_namespace('google')`.\n",
            "Implementing implicit namespace packages (as specified in PEP 420) is preferred to `pkg_resources.declare_namespace`. See https://setuptools.pypa.io/en/latest/references/keywords.html#keyword-namespace-packages\n",
            "  declare_namespace(pkg)\n",
            "/usr/local/lib/python3.10/dist-packages/pkg_resources/__init__.py:2870: DeprecationWarning: Deprecated call to `pkg_resources.declare_namespace('google.cloud')`.\n",
            "Implementing implicit namespace packages (as specified in PEP 420) is preferred to `pkg_resources.declare_namespace`. See https://setuptools.pypa.io/en/latest/references/keywords.html#keyword-namespace-packages\n",
            "  declare_namespace(pkg)\n",
            "/usr/local/lib/python3.10/dist-packages/pkg_resources/__init__.py:2349: DeprecationWarning: Deprecated call to `pkg_resources.declare_namespace('google')`.\n",
            "Implementing implicit namespace packages (as specified in PEP 420) is preferred to `pkg_resources.declare_namespace`. See https://setuptools.pypa.io/en/latest/references/keywords.html#keyword-namespace-packages\n",
            "  declare_namespace(parent)\n",
            "/usr/local/lib/python3.10/dist-packages/pkg_resources/__init__.py:2870: DeprecationWarning: Deprecated call to `pkg_resources.declare_namespace('google.logging')`.\n",
            "Implementing implicit namespace packages (as specified in PEP 420) is preferred to `pkg_resources.declare_namespace`. See https://setuptools.pypa.io/en/latest/references/keywords.html#keyword-namespace-packages\n",
            "  declare_namespace(pkg)\n",
            "/usr/local/lib/python3.10/dist-packages/pkg_resources/__init__.py:2870: DeprecationWarning: Deprecated call to `pkg_resources.declare_namespace('google.iam')`.\n",
            "Implementing implicit namespace packages (as specified in PEP 420) is preferred to `pkg_resources.declare_namespace`. See https://setuptools.pypa.io/en/latest/references/keywords.html#keyword-namespace-packages\n",
            "  declare_namespace(pkg)\n",
            "/usr/local/lib/python3.10/dist-packages/pkg_resources/__init__.py:2870: DeprecationWarning: Deprecated call to `pkg_resources.declare_namespace('mpl_toolkits')`.\n",
            "Implementing implicit namespace packages (as specified in PEP 420) is preferred to `pkg_resources.declare_namespace`. See https://setuptools.pypa.io/en/latest/references/keywords.html#keyword-namespace-packages\n",
            "  declare_namespace(pkg)\n",
            "/usr/local/lib/python3.10/dist-packages/pkg_resources/__init__.py:2870: DeprecationWarning: Deprecated call to `pkg_resources.declare_namespace('sphinxcontrib')`.\n",
            "Implementing implicit namespace packages (as specified in PEP 420) is preferred to `pkg_resources.declare_namespace`. See https://setuptools.pypa.io/en/latest/references/keywords.html#keyword-namespace-packages\n",
            "  declare_namespace(pkg)\n",
            "Traceback (most recent call last):\n",
            "  File \"/content/PaddleOCR/tools/eval.py\", line 27, in <module>\n",
            "    from ppocr.data import build_dataloader, set_signal_handlers\n",
            "  File \"/content/PaddleOCR/ppocr/data/__init__.py\", line 35, in <module>\n",
            "    from ppocr.data.imaug import transform, create_operators\n",
            "  File \"/content/PaddleOCR/ppocr/data/imaug/__init__.py\", line 33, in <module>\n",
            "    from .copy_paste import CopyPaste\n",
            "  File \"/content/PaddleOCR/ppocr/data/imaug/copy_paste.py\", line 23, in <module>\n",
            "    from tools.infer.utility import get_rotate_crop_image\n",
            "  File \"/content/PaddleOCR/tools/infer/utility.py\", line 22, in <module>\n",
            "    from PIL import Image, ImageDraw, ImageFont\n",
            "  File \"<frozen importlib._bootstrap>\", line 1027, in _find_and_load\n",
            "  File \"<frozen importlib._bootstrap>\", line 1006, in _find_and_load_unlocked\n",
            "  File \"<frozen importlib._bootstrap>\", line 688, in _load_unlocked\n",
            "  File \"<frozen importlib._bootstrap_external>\", line 879, in exec_module\n",
            "  File \"<frozen importlib._bootstrap_external>\", line 1012, in get_code\n",
            "  File \"<frozen importlib._bootstrap_external>\", line 672, in _compile_bytecode\n",
            "KeyboardInterrupt\n",
            "^C\n"
          ]
        }
      ],
      "source": [
        "# Testing results on Generated dataset\n",
        "!python3 tools/eval.py -c \"/content/drive/MyDrive/Digitizing Medical Prescription/e2e_r50_vd_pg.yml\""
      ]
    },
    {
      "cell_type": "markdown",
      "metadata": {
        "id": "q6fVlycs_XgK"
      },
      "source": [
        "# Inference"
      ]
    },
    {
      "cell_type": "code",
      "execution_count": null,
      "metadata": {
        "id": "tYeA059H_XBM",
        "colab": {
          "base_uri": "https://localhost:8080/"
        },
        "outputId": "ebddd66a-fafe-44d8-f48d-ef347fb3ce37"
      },
      "outputs": [
        {
          "output_type": "stream",
          "name": "stdout",
          "text": [
            "/usr/local/lib/python3.10/dist-packages/pkg_resources/__init__.py:121: DeprecationWarning: pkg_resources is deprecated as an API\n",
            "  warnings.warn(\"pkg_resources is deprecated as an API\", DeprecationWarning)\n",
            "/usr/local/lib/python3.10/dist-packages/pkg_resources/__init__.py:2870: DeprecationWarning: Deprecated call to `pkg_resources.declare_namespace('google')`.\n",
            "Implementing implicit namespace packages (as specified in PEP 420) is preferred to `pkg_resources.declare_namespace`. See https://setuptools.pypa.io/en/latest/references/keywords.html#keyword-namespace-packages\n",
            "  declare_namespace(pkg)\n",
            "/usr/local/lib/python3.10/dist-packages/pkg_resources/__init__.py:2870: DeprecationWarning: Deprecated call to `pkg_resources.declare_namespace('google.cloud')`.\n",
            "Implementing implicit namespace packages (as specified in PEP 420) is preferred to `pkg_resources.declare_namespace`. See https://setuptools.pypa.io/en/latest/references/keywords.html#keyword-namespace-packages\n",
            "  declare_namespace(pkg)\n",
            "/usr/local/lib/python3.10/dist-packages/pkg_resources/__init__.py:2349: DeprecationWarning: Deprecated call to `pkg_resources.declare_namespace('google')`.\n",
            "Implementing implicit namespace packages (as specified in PEP 420) is preferred to `pkg_resources.declare_namespace`. See https://setuptools.pypa.io/en/latest/references/keywords.html#keyword-namespace-packages\n",
            "  declare_namespace(parent)\n",
            "/usr/local/lib/python3.10/dist-packages/pkg_resources/__init__.py:2870: DeprecationWarning: Deprecated call to `pkg_resources.declare_namespace('google.logging')`.\n",
            "Implementing implicit namespace packages (as specified in PEP 420) is preferred to `pkg_resources.declare_namespace`. See https://setuptools.pypa.io/en/latest/references/keywords.html#keyword-namespace-packages\n",
            "  declare_namespace(pkg)\n",
            "/usr/local/lib/python3.10/dist-packages/pkg_resources/__init__.py:2870: DeprecationWarning: Deprecated call to `pkg_resources.declare_namespace('google.iam')`.\n",
            "Implementing implicit namespace packages (as specified in PEP 420) is preferred to `pkg_resources.declare_namespace`. See https://setuptools.pypa.io/en/latest/references/keywords.html#keyword-namespace-packages\n",
            "  declare_namespace(pkg)\n",
            "/usr/local/lib/python3.10/dist-packages/pkg_resources/__init__.py:2870: DeprecationWarning: Deprecated call to `pkg_resources.declare_namespace('mpl_toolkits')`.\n",
            "Implementing implicit namespace packages (as specified in PEP 420) is preferred to `pkg_resources.declare_namespace`. See https://setuptools.pypa.io/en/latest/references/keywords.html#keyword-namespace-packages\n",
            "  declare_namespace(pkg)\n",
            "/usr/local/lib/python3.10/dist-packages/pkg_resources/__init__.py:2870: DeprecationWarning: Deprecated call to `pkg_resources.declare_namespace('sphinxcontrib')`.\n",
            "Implementing implicit namespace packages (as specified in PEP 420) is preferred to `pkg_resources.declare_namespace`. See https://setuptools.pypa.io/en/latest/references/keywords.html#keyword-namespace-packages\n",
            "  declare_namespace(pkg)\n",
            "[2023/08/31 11:12:57] ppocr INFO: Architecture : \n",
            "[2023/08/31 11:12:57] ppocr INFO:     Backbone : \n",
            "[2023/08/31 11:12:57] ppocr INFO:         layers : 50\n",
            "[2023/08/31 11:12:57] ppocr INFO:         name : ResNet\n",
            "[2023/08/31 11:12:57] ppocr INFO:     Head : \n",
            "[2023/08/31 11:12:57] ppocr INFO:         character_dict_path : /content/drive/MyDrive/Digitizing Medical Prescription/TCC_MAP.txt\n",
            "[2023/08/31 11:12:57] ppocr INFO:         name : PGHead\n",
            "[2023/08/31 11:12:57] ppocr INFO:     Neck : \n",
            "[2023/08/31 11:12:57] ppocr INFO:         name : PGFPN\n",
            "[2023/08/31 11:12:57] ppocr INFO:     Transform : None\n",
            "[2023/08/31 11:12:57] ppocr INFO:     algorithm : PGNet\n",
            "[2023/08/31 11:12:57] ppocr INFO:     model_type : e2e\n",
            "[2023/08/31 11:12:57] ppocr INFO: Eval : \n",
            "[2023/08/31 11:12:57] ppocr INFO:     dataset : \n",
            "[2023/08/31 11:12:57] ppocr INFO:         data_dir : /content/drive/MyDrive/Digitizing Medical Prescription/Generated_Dataset/Dataset2/Validation_Images_50/\n",
            "[2023/08/31 11:12:57] ppocr INFO:         label_file_list : ['/content/drive/MyDrive/Digitizing Medical Prescription/Generated_Dataset/Dataset2/ValidationData.txt']\n",
            "[2023/08/31 11:12:57] ppocr INFO:         name : PGDataSet\n",
            "[2023/08/31 11:12:57] ppocr INFO:         transforms : \n",
            "[2023/08/31 11:12:57] ppocr INFO:             DecodeImage : \n",
            "[2023/08/31 11:12:57] ppocr INFO:                 channel_first : False\n",
            "[2023/08/31 11:12:57] ppocr INFO:                 img_mode : BGR\n",
            "[2023/08/31 11:12:57] ppocr INFO:             E2ELabelEncodeTest : None\n",
            "[2023/08/31 11:12:57] ppocr INFO:             E2EResizeForTest : \n",
            "[2023/08/31 11:12:57] ppocr INFO:                 max_side_len : 768\n",
            "[2023/08/31 11:12:57] ppocr INFO:             NormalizeImage : \n",
            "[2023/08/31 11:12:57] ppocr INFO:                 mean : [0.485, 0.456, 0.406]\n",
            "[2023/08/31 11:12:57] ppocr INFO:                 order : hwc\n",
            "[2023/08/31 11:12:57] ppocr INFO:                 scale : 1./255.\n",
            "[2023/08/31 11:12:57] ppocr INFO:                 std : [0.229, 0.224, 0.225]\n",
            "[2023/08/31 11:12:57] ppocr INFO:             ToCHWImage : None\n",
            "[2023/08/31 11:12:57] ppocr INFO:             KeepKeys : \n",
            "[2023/08/31 11:12:57] ppocr INFO:                 keep_keys : ['image', 'shape', 'polys', 'texts', 'ignore_tags', 'img_id']\n",
            "[2023/08/31 11:12:57] ppocr INFO:     loader : \n",
            "[2023/08/31 11:12:57] ppocr INFO:         batch_size_per_card : 1\n",
            "[2023/08/31 11:12:57] ppocr INFO:         drop_last : False\n",
            "[2023/08/31 11:12:57] ppocr INFO:         num_workers : 2\n",
            "[2023/08/31 11:12:57] ppocr INFO:         shuffle : False\n",
            "[2023/08/31 11:12:57] ppocr INFO: Global : \n",
            "[2023/08/31 11:12:57] ppocr INFO:     cal_metric_during_train : False\n",
            "[2023/08/31 11:12:57] ppocr INFO:     character_dict_path : /content/drive/MyDrive/Digitizing Medical Prescription/TCC_MAP.txt\n",
            "[2023/08/31 11:12:57] ppocr INFO:     character_type : EN\n",
            "[2023/08/31 11:12:57] ppocr INFO:     checkpoints : None\n",
            "[2023/08/31 11:12:57] ppocr INFO:     distributed : False\n",
            "[2023/08/31 11:12:57] ppocr INFO:     epoch_num : 90\n",
            "[2023/08/31 11:12:57] ppocr INFO:     eval_batch_step : [0, 100]\n",
            "[2023/08/31 11:12:57] ppocr INFO:     infer_img : /content/drive/MyDrive/Digitizing Medical Prescription/Testing_samples_LMv2/\n",
            "[2023/08/31 11:12:57] ppocr INFO:     infer_visual_type : EN\n",
            "[2023/08/31 11:12:57] ppocr INFO:     log_smooth_window : 20\n",
            "[2023/08/31 11:12:57] ppocr INFO:     max_text_length : 50\n",
            "[2023/08/31 11:12:57] ppocr INFO:     max_text_nums : 30\n",
            "[2023/08/31 11:12:57] ppocr INFO:     pretrained_model : /content/drive/MyDrive/Digitizing Medical Prescription/PGNetacc/best_accuracy\n",
            "[2023/08/31 11:12:57] ppocr INFO:     print_batch_step : 10\n",
            "[2023/08/31 11:12:57] ppocr INFO:     save_epoch_step : 10\n",
            "[2023/08/31 11:12:57] ppocr INFO:     save_inference_dir : /content/drive/MyDrive/Digitizing Medical Prescription/pgnet_save_directory/\n",
            "[2023/08/31 11:12:57] ppocr INFO:     save_model_dir : /content/drive/MyDrive/Digitizing Medical Prescription/pgnet_save_directory/\n",
            "[2023/08/31 11:12:57] ppocr INFO:     save_res_path : /content/drive/MyDrive/Digitizing Medical Prescription/pgnet_save_directory/predicts_pgnet.txt\n",
            "[2023/08/31 11:12:57] ppocr INFO:     tcl_len : 64\n",
            "[2023/08/31 11:12:57] ppocr INFO:     use_gpu : True\n",
            "[2023/08/31 11:12:57] ppocr INFO:     use_visualdl : False\n",
            "[2023/08/31 11:12:57] ppocr INFO:     valid_set : partvgg\n",
            "[2023/08/31 11:12:57] ppocr INFO: Loss : \n",
            "[2023/08/31 11:12:57] ppocr INFO:     max_text_length : 50\n",
            "[2023/08/31 11:12:57] ppocr INFO:     max_text_nums : 30\n",
            "[2023/08/31 11:12:57] ppocr INFO:     name : PGLoss\n",
            "[2023/08/31 11:12:57] ppocr INFO:     pad_num : 74\n",
            "[2023/08/31 11:12:57] ppocr INFO:     tcl_bs : 64\n",
            "[2023/08/31 11:12:57] ppocr INFO: Metric : \n",
            "[2023/08/31 11:12:57] ppocr INFO:     character_dict_path : /content/drive/MyDrive/Digitizing Medical Prescription/TCC_MAP.txt\n",
            "[2023/08/31 11:12:57] ppocr INFO:     gt_mat_dir : /content/drive/MyDrive/Digitizing Medical Prescription/Generated_Dataset/Dataset2/ValidationData.txt\n",
            "[2023/08/31 11:12:57] ppocr INFO:     main_indicator : f_score\n",
            "[2023/08/31 11:12:57] ppocr INFO:     mode : A\n",
            "[2023/08/31 11:12:57] ppocr INFO:     name : E2EMetric\n",
            "[2023/08/31 11:12:57] ppocr INFO: Optimizer : \n",
            "[2023/08/31 11:12:57] ppocr INFO:     beta1 : 0.9\n",
            "[2023/08/31 11:12:57] ppocr INFO:     beta2 : 0.999\n",
            "[2023/08/31 11:12:57] ppocr INFO:     lr : \n",
            "[2023/08/31 11:12:57] ppocr INFO:         learning_rate : 0.001\n",
            "[2023/08/31 11:12:57] ppocr INFO:         name : Cosine\n",
            "[2023/08/31 11:12:57] ppocr INFO:         warmup_epoch : 50\n",
            "[2023/08/31 11:12:57] ppocr INFO:     name : RMSProp\n",
            "[2023/08/31 11:12:57] ppocr INFO:     regularizer : \n",
            "[2023/08/31 11:12:57] ppocr INFO:         factor : 0.0001\n",
            "[2023/08/31 11:12:57] ppocr INFO:         name : L2\n",
            "[2023/08/31 11:12:57] ppocr INFO: PostProcess : \n",
            "[2023/08/31 11:12:57] ppocr INFO:     mode : fast\n",
            "[2023/08/31 11:12:57] ppocr INFO:     name : PGPostProcess\n",
            "[2023/08/31 11:12:57] ppocr INFO:     point_gather_mode : align\n",
            "[2023/08/31 11:12:57] ppocr INFO:     score_thresh : 0.5\n",
            "[2023/08/31 11:12:57] ppocr INFO: Train : \n",
            "[2023/08/31 11:12:57] ppocr INFO:     dataset : \n",
            "[2023/08/31 11:12:57] ppocr INFO:         data_dir : /content/drive/MyDrive/Digitizing Medical Prescription/Generated_Dataset/Dataset2/Training_Images_350\n",
            "[2023/08/31 11:12:57] ppocr INFO:         label_file_list : ['/content/drive/MyDrive/Digitizing Medical Prescription/Generated_Dataset/Dataset2/TrainingData.txt']\n",
            "[2023/08/31 11:12:57] ppocr INFO:         name : PGDataSet\n",
            "[2023/08/31 11:12:57] ppocr INFO:         ratio_list : [1.0]\n",
            "[2023/08/31 11:12:57] ppocr INFO:         transforms : \n",
            "[2023/08/31 11:12:57] ppocr INFO:             DecodeImage : \n",
            "[2023/08/31 11:12:57] ppocr INFO:                 channel_first : False\n",
            "[2023/08/31 11:12:57] ppocr INFO:                 img_mode : BGR\n",
            "[2023/08/31 11:12:57] ppocr INFO:             E2ELabelEncodeTrain : None\n",
            "[2023/08/31 11:12:57] ppocr INFO:             PGProcessTrain : \n",
            "[2023/08/31 11:12:57] ppocr INFO:                 batch_size : 8\n",
            "[2023/08/31 11:12:57] ppocr INFO:                 max_text_size : 512\n",
            "[2023/08/31 11:12:57] ppocr INFO:                 min_crop_size : 24\n",
            "[2023/08/31 11:12:57] ppocr INFO:                 min_text_size : 4\n",
            "[2023/08/31 11:12:57] ppocr INFO:                 point_gather_mode : align\n",
            "[2023/08/31 11:12:57] ppocr INFO:                 use_random_crop : False\n",
            "[2023/08/31 11:12:57] ppocr INFO:                 use_resize : True\n",
            "[2023/08/31 11:12:57] ppocr INFO:             KeepKeys : \n",
            "[2023/08/31 11:12:57] ppocr INFO:                 keep_keys : ['images', 'tcl_maps', 'tcl_label_maps', 'border_maps', 'direction_maps', 'training_masks', 'label_list', 'pos_list', 'pos_mask']\n",
            "[2023/08/31 11:12:57] ppocr INFO:     loader : \n",
            "[2023/08/31 11:12:57] ppocr INFO:         batch_size_per_card : 8\n",
            "[2023/08/31 11:12:57] ppocr INFO:         drop_last : True\n",
            "[2023/08/31 11:12:57] ppocr INFO:         num_workers : 16\n",
            "[2023/08/31 11:12:57] ppocr INFO:         shuffle : True\n",
            "[2023/08/31 11:12:57] ppocr INFO: profiler_options : None\n",
            "[2023/08/31 11:12:57] ppocr INFO: train with paddle 2.4.2 and device Place(gpu:0)\n",
            "W0831 11:12:57.527951  2629 gpu_resources.cc:61] Please NOTE: device: 0, GPU Compute Capability: 7.5, Driver API Version: 12.0, Runtime API Version: 11.7\n",
            "W0831 11:12:57.529235  2629 gpu_resources.cc:91] device: 0, cuDNN Version: 8.9.\n",
            "[2023/08/31 11:13:00] ppocr INFO: load pretrain successful from /content/drive/MyDrive/Digitizing Medical Prescription/PGNetacc/best_accuracy\n",
            "[2023/08/31 11:13:00] ppocr INFO: infer_img: /content/drive/MyDrive/Digitizing Medical Prescription/Testing_samples_LMv2/L1_Row_738.jpg\n",
            "[2023/08/31 11:13:02] ppocr INFO: The e2e Image saved in /content/drive/MyDrive/Digitizing Medical Prescription/pgnet_save_directory/e2e_results/L1_Row_738.jpg\n",
            "[2023/08/31 11:13:02] ppocr INFO: infer_img: /content/drive/MyDrive/Digitizing Medical Prescription/Testing_samples_LMv2/L1_Row_757.jpg\n",
            "[2023/08/31 11:13:03] ppocr INFO: The e2e Image saved in /content/drive/MyDrive/Digitizing Medical Prescription/pgnet_save_directory/e2e_results/L1_Row_757.jpg\n",
            "[2023/08/31 11:13:03] ppocr INFO: infer_img: /content/drive/MyDrive/Digitizing Medical Prescription/Testing_samples_LMv2/L2_Row_1014.jpg\n",
            "[2023/08/31 11:13:03] ppocr INFO: The e2e Image saved in /content/drive/MyDrive/Digitizing Medical Prescription/pgnet_save_directory/e2e_results/L2_Row_1014.jpg\n",
            "[2023/08/31 11:13:03] ppocr INFO: infer_img: /content/drive/MyDrive/Digitizing Medical Prescription/Testing_samples_LMv2/L4_Row_912.jpg\n",
            "[2023/08/31 11:13:04] ppocr INFO: The e2e Image saved in /content/drive/MyDrive/Digitizing Medical Prescription/pgnet_save_directory/e2e_results/L4_Row_912.jpg\n",
            "[2023/08/31 11:13:04] ppocr INFO: success!\n"
          ]
        }
      ],
      "source": [
        "!python3 tools/infer_e2e.py -c '/content/drive/MyDrive/Digitizing Medical Prescription/e2e_r50_vd_pg.yml'"
      ]
    }
  ],
  "metadata": {
    "colab": {
      "provenance": [],
      "gpuType": "T4"
    },
    "kernelspec": {
      "display_name": "Python 3",
      "name": "python3"
    },
    "language_info": {
      "name": "python"
    },
    "accelerator": "GPU"
  },
  "nbformat": 4,
  "nbformat_minor": 0
}